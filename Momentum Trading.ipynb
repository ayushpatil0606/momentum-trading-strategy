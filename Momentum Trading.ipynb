{
 "cells": [
  {
   "cell_type": "code",
   "execution_count": 1,
   "id": "28371a5c",
   "metadata": {},
   "outputs": [],
   "source": [
    "import yfinance as yf\n",
    "import numpy as np\n",
    "import pandas as pd"
   ]
  },
  {
   "cell_type": "code",
   "execution_count": 2,
   "id": "63fd5945",
   "metadata": {},
   "outputs": [],
   "source": [
    "stocks = pd.read_html('https://en.wikipedia.org/wiki/NIFTY_50')[2].Symbol"
   ]
  },
  {
   "cell_type": "code",
   "execution_count": 3,
   "id": "94ba0a58",
   "metadata": {},
   "outputs": [],
   "source": [
    "# stocks.head(5)"
   ]
  },
  {
   "cell_type": "code",
   "execution_count": 4,
   "id": "07590696",
   "metadata": {},
   "outputs": [],
   "source": [
    "stocks = stocks + '.NS'"
   ]
  },
  {
   "cell_type": "code",
   "execution_count": 5,
   "id": "7841798a",
   "metadata": {},
   "outputs": [],
   "source": [
    "stocks = stocks.to_list()"
   ]
  },
  {
   "cell_type": "code",
   "execution_count": 6,
   "id": "e54acb28",
   "metadata": {},
   "outputs": [
    {
     "name": "stdout",
     "output_type": "stream",
     "text": [
      "[*********************100%***********************]  50 of 50 completed\n"
     ]
    }
   ],
   "source": [
    "df = yf.download(stocks, start='2013-01-01', end='2023-01-01')['Adj Close']"
   ]
  },
  {
   "cell_type": "code",
   "execution_count": 7,
   "id": "7296a469",
   "metadata": {},
   "outputs": [],
   "source": [
    "# df"
   ]
  },
  {
   "cell_type": "code",
   "execution_count": 8,
   "id": "2f210d40",
   "metadata": {},
   "outputs": [],
   "source": [
    "ret_df = df.pct_change()"
   ]
  },
  {
   "cell_type": "code",
   "execution_count": 9,
   "id": "7c117030",
   "metadata": {},
   "outputs": [],
   "source": [
    "# ret_df"
   ]
  },
  {
   "cell_type": "code",
   "execution_count": 10,
   "id": "529565dd",
   "metadata": {},
   "outputs": [],
   "source": [
    "mtl_ret = (ret_df + 1).resample('M').prod()"
   ]
  },
  {
   "cell_type": "code",
   "execution_count": 11,
   "id": "a407c827",
   "metadata": {},
   "outputs": [],
   "source": [
    "# mtl_ret"
   ]
  },
  {
   "cell_type": "code",
   "execution_count": 12,
   "id": "b9544a08",
   "metadata": {},
   "outputs": [],
   "source": [
    "mtl_12 = mtl_ret.rolling(12).apply(np.prod).dropna()"
   ]
  },
  {
   "cell_type": "code",
   "execution_count": 13,
   "id": "977cb56e",
   "metadata": {},
   "outputs": [],
   "source": [
    "# mtl_12"
   ]
  },
  {
   "cell_type": "code",
   "execution_count": 14,
   "id": "b1076755",
   "metadata": {},
   "outputs": [],
   "source": [
    "top_ = mtl_12.loc['2013-12-31'].nlargest(5)\n",
    "bottom_ = mtl_12.loc['2013-12-31'].nsmallest(5)"
   ]
  },
  {
   "cell_type": "code",
   "execution_count": 15,
   "id": "30638595",
   "metadata": {},
   "outputs": [],
   "source": [
    "# top_\n",
    "# bottom_"
   ]
  },
  {
   "cell_type": "code",
   "execution_count": 16,
   "id": "6db5c072",
   "metadata": {},
   "outputs": [
    {
     "data": {
      "text/plain": [
       "Timestamp('2013-12-31 00:00:00', freq='M')"
      ]
     },
     "execution_count": 16,
     "metadata": {},
     "output_type": "execute_result"
    }
   ],
   "source": [
    "top_.name"
   ]
  },
  {
   "cell_type": "code",
   "execution_count": 17,
   "id": "ade3c1c9",
   "metadata": {},
   "outputs": [
    {
     "data": {
      "text/html": [
       "<div>\n",
       "<style scoped>\n",
       "    .dataframe tbody tr th:only-of-type {\n",
       "        vertical-align: middle;\n",
       "    }\n",
       "\n",
       "    .dataframe tbody tr th {\n",
       "        vertical-align: top;\n",
       "    }\n",
       "\n",
       "    .dataframe thead th {\n",
       "        text-align: right;\n",
       "    }\n",
       "</style>\n",
       "<table border=\"1\" class=\"dataframe\">\n",
       "  <thead>\n",
       "    <tr style=\"text-align: right;\">\n",
       "      <th></th>\n",
       "      <th>ADANIENT.NS</th>\n",
       "      <th>ADANIPORTS.NS</th>\n",
       "      <th>APOLLOHOSP.NS</th>\n",
       "      <th>ASIANPAINT.NS</th>\n",
       "      <th>AXISBANK.NS</th>\n",
       "      <th>BAJAJ-AUTO.NS</th>\n",
       "      <th>BAJAJFINSV.NS</th>\n",
       "      <th>BAJFINANCE.NS</th>\n",
       "      <th>BHARTIARTL.NS</th>\n",
       "      <th>BPCL.NS</th>\n",
       "      <th>...</th>\n",
       "      <th>SUNPHARMA.NS</th>\n",
       "      <th>TATACONSUM.NS</th>\n",
       "      <th>TATAMOTORS.NS</th>\n",
       "      <th>TATASTEEL.NS</th>\n",
       "      <th>TCS.NS</th>\n",
       "      <th>TECHM.NS</th>\n",
       "      <th>TITAN.NS</th>\n",
       "      <th>ULTRACEMCO.NS</th>\n",
       "      <th>UPL.NS</th>\n",
       "      <th>WIPRO.NS</th>\n",
       "    </tr>\n",
       "    <tr>\n",
       "      <th>Date</th>\n",
       "      <th></th>\n",
       "      <th></th>\n",
       "      <th></th>\n",
       "      <th></th>\n",
       "      <th></th>\n",
       "      <th></th>\n",
       "      <th></th>\n",
       "      <th></th>\n",
       "      <th></th>\n",
       "      <th></th>\n",
       "      <th></th>\n",
       "      <th></th>\n",
       "      <th></th>\n",
       "      <th></th>\n",
       "      <th></th>\n",
       "      <th></th>\n",
       "      <th></th>\n",
       "      <th></th>\n",
       "      <th></th>\n",
       "      <th></th>\n",
       "      <th></th>\n",
       "    </tr>\n",
       "  </thead>\n",
       "  <tbody>\n",
       "    <tr>\n",
       "      <th>2014-01-31</th>\n",
       "      <td>0.909905</td>\n",
       "      <td>0.945624</td>\n",
       "      <td>0.982882</td>\n",
       "      <td>0.962653</td>\n",
       "      <td>0.864107</td>\n",
       "      <td>0.995107</td>\n",
       "      <td>0.91578</td>\n",
       "      <td>0.968316</td>\n",
       "      <td>0.953823</td>\n",
       "      <td>1.042541</td>\n",
       "      <td>...</td>\n",
       "      <td>1.037448</td>\n",
       "      <td>0.878778</td>\n",
       "      <td>0.928666</td>\n",
       "      <td>0.839345</td>\n",
       "      <td>1.033606</td>\n",
       "      <td>0.972305</td>\n",
       "      <td>0.965359</td>\n",
       "      <td>0.96973</td>\n",
       "      <td>0.955292</td>\n",
       "      <td>1.03377</td>\n",
       "    </tr>\n",
       "  </tbody>\n",
       "</table>\n",
       "<p>1 rows × 50 columns</p>\n",
       "</div>"
      ],
      "text/plain": [
       "            ADANIENT.NS  ADANIPORTS.NS  APOLLOHOSP.NS  ASIANPAINT.NS  \\\n",
       "Date                                                                   \n",
       "2014-01-31     0.909905       0.945624       0.982882       0.962653   \n",
       "\n",
       "            AXISBANK.NS  BAJAJ-AUTO.NS  BAJAJFINSV.NS  BAJFINANCE.NS  \\\n",
       "Date                                                                   \n",
       "2014-01-31     0.864107       0.995107        0.91578       0.968316   \n",
       "\n",
       "            BHARTIARTL.NS   BPCL.NS  ...  SUNPHARMA.NS  TATACONSUM.NS  \\\n",
       "Date                                 ...                                \n",
       "2014-01-31       0.953823  1.042541  ...      1.037448       0.878778   \n",
       "\n",
       "            TATAMOTORS.NS  TATASTEEL.NS    TCS.NS  TECHM.NS  TITAN.NS  \\\n",
       "Date                                                                    \n",
       "2014-01-31       0.928666      0.839345  1.033606  0.972305  0.965359   \n",
       "\n",
       "            ULTRACEMCO.NS    UPL.NS  WIPRO.NS  \n",
       "Date                                           \n",
       "2014-01-31        0.96973  0.955292   1.03377  \n",
       "\n",
       "[1 rows x 50 columns]"
      ]
     },
     "execution_count": 17,
     "metadata": {},
     "output_type": "execute_result"
    }
   ],
   "source": [
    "mtl_ret[top_.name:][1:2]"
   ]
  },
  {
   "cell_type": "code",
   "execution_count": 18,
   "id": "891faf46",
   "metadata": {},
   "outputs": [],
   "source": [
    "relevant_ret = mtl_ret[top_.name:][1:2][top_.index]"
   ]
  },
  {
   "cell_type": "code",
   "execution_count": 19,
   "id": "3fa1fdda",
   "metadata": {},
   "outputs": [
    {
     "data": {
      "text/html": [
       "<div>\n",
       "<style scoped>\n",
       "    .dataframe tbody tr th:only-of-type {\n",
       "        vertical-align: middle;\n",
       "    }\n",
       "\n",
       "    .dataframe tbody tr th {\n",
       "        vertical-align: top;\n",
       "    }\n",
       "\n",
       "    .dataframe thead th {\n",
       "        text-align: right;\n",
       "    }\n",
       "</style>\n",
       "<table border=\"1\" class=\"dataframe\">\n",
       "  <thead>\n",
       "    <tr style=\"text-align: right;\">\n",
       "      <th></th>\n",
       "      <th>HCLTECH.NS</th>\n",
       "      <th>TECHM.NS</th>\n",
       "      <th>BRITANNIA.NS</th>\n",
       "      <th>TCS.NS</th>\n",
       "      <th>EICHERMOT.NS</th>\n",
       "    </tr>\n",
       "    <tr>\n",
       "      <th>Date</th>\n",
       "      <th></th>\n",
       "      <th></th>\n",
       "      <th></th>\n",
       "      <th></th>\n",
       "      <th></th>\n",
       "    </tr>\n",
       "  </thead>\n",
       "  <tbody>\n",
       "    <tr>\n",
       "      <th>2014-01-31</th>\n",
       "      <td>1.161358</td>\n",
       "      <td>0.972305</td>\n",
       "      <td>0.958669</td>\n",
       "      <td>1.033606</td>\n",
       "      <td>0.93373</td>\n",
       "    </tr>\n",
       "  </tbody>\n",
       "</table>\n",
       "</div>"
      ],
      "text/plain": [
       "            HCLTECH.NS  TECHM.NS  BRITANNIA.NS    TCS.NS  EICHERMOT.NS\n",
       "Date                                                                  \n",
       "2014-01-31    1.161358  0.972305      0.958669  1.033606       0.93373"
      ]
     },
     "execution_count": 19,
     "metadata": {},
     "output_type": "execute_result"
    }
   ],
   "source": [
    "relevant_ret"
   ]
  },
  {
   "cell_type": "code",
   "execution_count": 20,
   "id": "fd783f2a",
   "metadata": {},
   "outputs": [
    {
     "data": {
      "text/plain": [
       "Date\n",
       "2014-01-31    1.011933\n",
       "Freq: M, dtype: float64"
      ]
     },
     "execution_count": 20,
     "metadata": {},
     "output_type": "execute_result"
    }
   ],
   "source": [
    "relevant_ret.mean(axis=1)"
   ]
  },
  {
   "cell_type": "code",
   "execution_count": 21,
   "id": "709b7149",
   "metadata": {},
   "outputs": [],
   "source": [
    "def top_performers(date):\n",
    "    all_ = mtl_12.loc[date]\n",
    "    top = all_.nlargest(5)\n",
    "    relevant_ret = mtl_ret[top.name:][1:2][top.index]\n",
    "    return (relevant_ret).mean(axis=1).values[0]\n",
    "\n",
    "def bottom_performers(date):\n",
    "    all_ = mtl_12.loc[date]\n",
    "    bottom = all_.nsmallest(5)\n",
    "    relevant_ret = mtl_ret[bottom.name:][1:2][bottom.index]\n",
    "    return (relevant_ret).mean(axis=1).values[0]"
   ]
  },
  {
   "cell_type": "code",
   "execution_count": 22,
   "id": "3883bc1e",
   "metadata": {},
   "outputs": [
    {
     "data": {
      "text/plain": [
       "0.9264812992730314"
      ]
     },
     "execution_count": 22,
     "metadata": {},
     "output_type": "execute_result"
    }
   ],
   "source": [
    "top_performers('2013-12-31')\n",
    "bottom_performers('2013-12-31')"
   ]
  },
  {
   "cell_type": "code",
   "execution_count": 23,
   "id": "2dc0de4b",
   "metadata": {},
   "outputs": [],
   "source": [
    "mom_ret = []\n",
    "for date in mtl_12.index[:-1]:\n",
    "    mom_ret.append(top_performers(date))"
   ]
  },
  {
   "cell_type": "code",
   "execution_count": 24,
   "id": "921e83a1",
   "metadata": {},
   "outputs": [
    {
     "data": {
      "text/plain": [
       "0      1.011933\n",
       "1      1.050188\n",
       "2      0.969021\n",
       "3      1.046449\n",
       "4      1.081803\n",
       "         ...   \n",
       "103    1.111629\n",
       "104    0.946117\n",
       "105    1.030619\n",
       "106    1.018830\n",
       "107    0.990703\n",
       "Length: 108, dtype: float64"
      ]
     },
     "execution_count": 24,
     "metadata": {},
     "output_type": "execute_result"
    }
   ],
   "source": [
    "pd.Series(mom_ret)"
   ]
  },
  {
   "cell_type": "code",
   "execution_count": 25,
   "id": "83713f96",
   "metadata": {},
   "outputs": [
    {
     "data": {
      "text/plain": [
       "0      1.011933\n",
       "1      1.062720\n",
       "2      1.029798\n",
       "3      1.077631\n",
       "4      1.165785\n",
       "         ...   \n",
       "103    9.603454\n",
       "104    9.085990\n",
       "105    9.364198\n",
       "106    9.540522\n",
       "107    9.451823\n",
       "Length: 108, dtype: float64"
      ]
     },
     "execution_count": 25,
     "metadata": {},
     "output_type": "execute_result"
    }
   ],
   "source": [
    "mom_ret = pd.Series(mom_ret).cumprod()\n",
    "mom_ret"
   ]
  },
  {
   "cell_type": "code",
   "execution_count": 26,
   "id": "3856d1fd",
   "metadata": {},
   "outputs": [
    {
     "name": "stdout",
     "output_type": "stream",
     "text": [
      "[*********************100%***********************]  1 of 1 completed\n"
     ]
    }
   ],
   "source": [
    "nifty = yf.download('^NSEI', start='2013-12-31', end='2023-01-01')['Adj Close'].to_frame()"
   ]
  },
  {
   "cell_type": "code",
   "execution_count": 27,
   "id": "57acc6ba",
   "metadata": {},
   "outputs": [],
   "source": [
    "ret_nifty = nifty.pct_change().dropna()"
   ]
  },
  {
   "cell_type": "code",
   "execution_count": 28,
   "id": "17529257",
   "metadata": {},
   "outputs": [],
   "source": [
    "# ret_nifty"
   ]
  },
  {
   "cell_type": "code",
   "execution_count": 29,
   "id": "942fc5a9",
   "metadata": {},
   "outputs": [],
   "source": [
    "mtl_ret_nifty = (ret_nifty + 1).resample('M').prod()"
   ]
  },
  {
   "cell_type": "code",
   "execution_count": 30,
   "id": "1568cfb9",
   "metadata": {},
   "outputs": [],
   "source": [
    "# mtl_ret_nifty"
   ]
  },
  {
   "cell_type": "code",
   "execution_count": 31,
   "id": "1cb76698",
   "metadata": {},
   "outputs": [
    {
     "data": {
      "text/html": [
       "<div>\n",
       "<style scoped>\n",
       "    .dataframe tbody tr th:only-of-type {\n",
       "        vertical-align: middle;\n",
       "    }\n",
       "\n",
       "    .dataframe tbody tr th {\n",
       "        vertical-align: top;\n",
       "    }\n",
       "\n",
       "    .dataframe thead th {\n",
       "        text-align: right;\n",
       "    }\n",
       "</style>\n",
       "<table border=\"1\" class=\"dataframe\">\n",
       "  <thead>\n",
       "    <tr style=\"text-align: right;\">\n",
       "      <th></th>\n",
       "      <th>Adj Close</th>\n",
       "    </tr>\n",
       "    <tr>\n",
       "      <th>Date</th>\n",
       "      <th></th>\n",
       "    </tr>\n",
       "  </thead>\n",
       "  <tbody>\n",
       "    <tr>\n",
       "      <th>2014-01-31</th>\n",
       "      <td>0.965974</td>\n",
       "    </tr>\n",
       "    <tr>\n",
       "      <th>2014-02-28</th>\n",
       "      <td>0.995709</td>\n",
       "    </tr>\n",
       "    <tr>\n",
       "      <th>2014-03-31</th>\n",
       "      <td>1.063484</td>\n",
       "    </tr>\n",
       "    <tr>\n",
       "      <th>2014-04-30</th>\n",
       "      <td>1.062246</td>\n",
       "    </tr>\n",
       "    <tr>\n",
       "      <th>2014-05-31</th>\n",
       "      <td>1.146883</td>\n",
       "    </tr>\n",
       "    <tr>\n",
       "      <th>...</th>\n",
       "      <td>...</td>\n",
       "    </tr>\n",
       "    <tr>\n",
       "      <th>2022-08-31</th>\n",
       "      <td>2.817148</td>\n",
       "    </tr>\n",
       "    <tr>\n",
       "      <th>2022-09-30</th>\n",
       "      <td>2.711667</td>\n",
       "    </tr>\n",
       "    <tr>\n",
       "      <th>2022-10-31</th>\n",
       "      <td>2.857265</td>\n",
       "    </tr>\n",
       "    <tr>\n",
       "      <th>2022-11-30</th>\n",
       "      <td>2.975627</td>\n",
       "    </tr>\n",
       "    <tr>\n",
       "      <th>2022-12-31</th>\n",
       "      <td>2.872034</td>\n",
       "    </tr>\n",
       "  </tbody>\n",
       "</table>\n",
       "<p>108 rows × 1 columns</p>\n",
       "</div>"
      ],
      "text/plain": [
       "            Adj Close\n",
       "Date                 \n",
       "2014-01-31   0.965974\n",
       "2014-02-28   0.995709\n",
       "2014-03-31   1.063484\n",
       "2014-04-30   1.062246\n",
       "2014-05-31   1.146883\n",
       "...               ...\n",
       "2022-08-31   2.817148\n",
       "2022-09-30   2.711667\n",
       "2022-10-31   2.857265\n",
       "2022-11-30   2.975627\n",
       "2022-12-31   2.872034\n",
       "\n",
       "[108 rows x 1 columns]"
      ]
     },
     "execution_count": 31,
     "metadata": {},
     "output_type": "execute_result"
    }
   ],
   "source": [
    "mtl_ret_nifty = mtl_ret_nifty.cumprod()\n",
    "mtl_ret_nifty"
   ]
  },
  {
   "cell_type": "code",
   "execution_count": 32,
   "id": "62e72a9e",
   "metadata": {},
   "outputs": [
    {
     "data": {
      "image/png": "[encoded data removed]",
      "text/plain": [
       "<Figure size 640x480 with 1 Axes>"
      ]
     },
     "metadata": {},
     "output_type": "display_data"
    }
   ],
   "source": [
    "import matplotlib.pyplot as plt\n",
    "\n",
    "# Assuming 'array1' and 'array2' are your arrays of the same length\n",
    "array1 = np.array(mom_ret)\n",
    "array2 = np.array(mtl_ret_nifty)\n",
    "\n",
    "# Plotting both arrays on the same graph\n",
    "plt.plot(array1, label='Momentum')\n",
    "plt.plot(array2, label='Nifty index')\n",
    "\n",
    "# Adding labels and a legend\n",
    "plt.xlabel('X-axis')\n",
    "plt.ylabel('Y-axis')\n",
    "plt.legend()\n",
    "\n",
    "# Displaying the plot\n",
    "plt.show()"
   ]
  }
 ],
 "metadata": {
  "kernelspec": {
   "display_name": "Python 3 (ipykernel)",
   "language": "python",
   "name": "python3"
  },
  "language_info": {
   "codemirror_mode": {
    "name": "ipython",
    "version": 3
   },
   "file_extension": ".py",
   "mimetype": "text/x-python",
   "name": "python",
   "nbconvert_exporter": "python",
   "pygments_lexer": "ipython3",
   "version": "3.10.9"
  }
 },
 "nbformat": 4,
 "nbformat_minor": 5
}
